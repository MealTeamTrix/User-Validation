{
 "cells": [
  {
   "cell_type": "code",
   "execution_count": 3,
   "id": "cd2ec09f-e3b1-41c3-9027-3e7d17aef2ac",
   "metadata": {},
   "outputs": [],
   "source": [
    "# Re-run this cell\n",
    "# Preloaded data for validating email domain.\n",
    "top_level_domain = [\n",
    "    \".org\",\n",
    "    \".net\",\n",
    "    \".edu\",\n",
    "    \".ac\",\n",
    "    \".gov\",\n",
    "    \".com\",\n",
    "    \".io\"\n",
    "]"
   ]
  },
  {
   "cell_type": "code",
   "execution_count": 4,
   "id": "0e977ab8-855f-4457-b167-a609e2b64c76",
   "metadata": {},
   "outputs": [],
   "source": [
    "def validate_name(name):\n",
    "    # Check that datatype of the variable, is what is expected. A string.\n",
    "    if type(name) !=str:\n",
    "        return False\n",
    "    # Check if character is less than two characters, if so return false:\n",
    "    elif len(name) <=2:\n",
    "        return False\n",
    "    # Name passed all checks\n",
    "    else:\n",
    "        return True"
   ]
  },
  {
   "cell_type": "code",
   "execution_count": 5,
   "id": "20b2e3fc-e8d8-40aa-90f0-e17191c3cecc",
   "metadata": {},
   "outputs": [],
   "source": [
    "def validate_email(email):\n",
    "    # IF the email does not include the @ symbol return False\n",
    "    if '@' not in email:\n",
    "        return False\n",
    "    # Loop through domain string\n",
    "    for domain in top_level_domains:\n",
    "        return True\n",
    "\n",
    "    return False"
   ]
  }
 ],
 "metadata": {
  "kernelspec": {
   "display_name": "Python 3 (ipykernel)",
   "language": "python",
   "name": "python3"
  },
  "language_info": {
   "codemirror_mode": {
    "name": "ipython",
    "version": 3
   },
   "file_extension": ".py",
   "mimetype": "text/x-python",
   "name": "python",
   "nbconvert_exporter": "python",
   "pygments_lexer": "ipython3",
   "version": "3.10.12"
  }
 },
 "nbformat": 4,
 "nbformat_minor": 5
}
